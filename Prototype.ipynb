{
 "cells": [
  {
   "cell_type": "code",
   "execution_count": 41,
   "metadata": {},
   "outputs": [],
   "source": [
    "import cv2 \n",
    "import matplotlib.pyplot as plot\n",
    "\n",
    "from matplotlib import pyplot as plt\n",
    "from matplotlib import image as image\n",
    "\n",
    "import easygui\n",
    "import numpy as np\n",
    "\n",
    "import glob"
   ]
  },
  {
   "cell_type": "code",
   "execution_count": 42,
   "metadata": {},
   "outputs": [],
   "source": [
    "#Face Folder\n",
    "datasetSize = 'newx64\\\\'\n",
    "faceDir = datasetSize + 'Faces\\\\'\n",
    "notFaceDir = datasetSize + 'NotFaces\\\\'"
   ]
  },
  {
   "cell_type": "code",
   "execution_count": 43,
   "metadata": {},
   "outputs": [],
   "source": [
    "#Create the HOG descriptor\n",
    "winSize = (64,64)\n",
    "blockSize = (16,16)\n",
    "blockStride = (8,8)\n",
    "cellSize = (8,8)\n",
    "nbins = 9\n",
    "derivAperture = 1\n",
    "winSigma = -1.\n",
    "histogramNormType = 0\n",
    "L2HysThreshold = 0.2\n",
    "gammaCorrection = 1\n",
    "nlevels = 64\n",
    "signedGradients = True\n",
    "\n",
    "hog = cv2.HOGDescriptor(winSize,blockSize,blockStride,cellSize,nbins,derivAperture,winSigma,histogramNormType,L2HysThreshold,gammaCorrection,nlevels, signedGradients)"
   ]
  },
  {
   "cell_type": "code",
   "execution_count": 44,
   "metadata": {},
   "outputs": [
    {
     "name": "stdout",
     "output_type": "stream",
     "text": [
      "[0 1]\n",
      "33187\n",
      "7522\n"
     ]
    }
   ],
   "source": [
    "#Get the images\n",
    "faces = glob.glob(faceDir + '*.jpg')\n",
    "nonFaces = glob.glob(notFaceDir + '*.jpg')\n",
    "images = faces + nonFaces\n",
    "\n",
    "#Create labels for the images\n",
    "faceLabels = [1] * len(faces)\n",
    "nonFaceLabels = [0] * len(nonFaces)\n",
    "labels = faceLabels + nonFaceLabels\n",
    "\n",
    "#Convert the lists into numpy arrays\n",
    "images = np.array(images)\n",
    "labels = np.array(labels)\n",
    "\n",
    "#Shuffle the data\n",
    "rand = np.random.RandomState(22)\n",
    "shuffle = rand.permutation(len(images))\n",
    "images, labels = images[shuffle], labels[shuffle]\n",
    "\n",
    "print(np.unique(labels))\n",
    "print(len(images))\n",
    "print(len(faceLabels))"
   ]
  },
  {
   "cell_type": "code",
   "execution_count": 45,
   "metadata": {},
   "outputs": [],
   "source": [
    "#Calculate HOG features for every image\n",
    "descriptors = []\n",
    "\n",
    "for img in images:\n",
    "    img = cv2.imread(img, cv2.IMREAD_GRAYSCALE)\n",
    "    descriptor = hog.compute(img)\n",
    "    descriptors.append(descriptor)"
   ]
  },
  {
   "cell_type": "code",
   "execution_count": 46,
   "metadata": {},
   "outputs": [],
   "source": [
    "descriptors = np.squeeze(descriptors)"
   ]
  },
  {
   "cell_type": "code",
   "execution_count": 47,
   "metadata": {},
   "outputs": [],
   "source": [
    "#Split the data into training and testing sets\n",
    "#90% training - 10% testing\n",
    "\n",
    "trainingSize = int(0.8 * len(descriptors))\n",
    "\n",
    "imagesTrain, imagesTest = np.split(images, [trainingSize])\n",
    "labelsTrain, labelsTest = np.split(labels, [trainingSize])\n",
    "descriptorsTrain, descriptorsTest = np.split(descriptors, [trainingSize])\n",
    "\n",
    "# #Double check\n",
    "# print(len(descriptorsTrain))\n",
    "# print(len(descriptorsTest))\n",
    "# print(len(descriptors))\n",
    "# print(labelsTrain)"
   ]
  },
  {
   "cell_type": "code",
   "execution_count": 48,
   "metadata": {},
   "outputs": [
    {
     "data": {
      "text/plain": [
       "True"
      ]
     },
     "execution_count": 48,
     "metadata": {},
     "output_type": "execute_result"
    }
   ],
   "source": [
    "#Initialise the SVM classifier\n",
    "SVM = cv2.ml.SVM_create()\n",
    "SVM.setKernel(cv2.ml.SVM_RBF)\n",
    "SVM.setGamma(0.50625)\n",
    "SVM.setType(cv2.ml.SVM_C_SVC)\n",
    "SVM.setC(2.0)\n",
    "\n",
    "#training\n",
    "SVM.train(descriptorsTrain, cv2.ml.ROW_SAMPLE, labelsTrain)"
   ]
  },
  {
   "cell_type": "code",
   "execution_count": null,
   "metadata": {},
   "outputs": [],
   "source": [
    "#Get the accuracy of the predictions on the test set\n",
    "output = SVM.predict(descriptorsTest)[1].ravel()\n",
    "\n",
    "accuracy = (labelsTest == output).mean()\n",
    "print('Percentage Accuracy: %.2f %%' % (accuracy*100))"
   ]
  },
  {
   "cell_type": "code",
   "execution_count": null,
   "metadata": {},
   "outputs": [],
   "source": [
    "#Get a confusion matrix for the test set\n",
    "#ACTUAL VALUES       -Face- -NotFace- \n",
    "#PREDICTED -Face-    --TP-- --FP-- \n",
    "#PREDICTED -NotFace- --FN-- --TN-- \n",
    "\n",
    "confusion = np.zeros((2, 2), np.int32)\n",
    "for i, j in zip(labelsTest, output):\n",
    "    confusion[int(i), int(j)] += 1\n",
    "print('confusion matrix:')\n",
    "print(confusion)\n"
   ]
  },
  {
   "cell_type": "code",
   "execution_count": null,
   "metadata": {},
   "outputs": [],
   "source": [
    "#Get all the images that were incorrectly labelled \n",
    "#https://stackoverflow.com/questions/46615554/how-to-display-multiple-images-in-one-figure-correctly/46616645\n",
    "incorrectedLabeledImages = []\n",
    "for i, j, k in zip(labelsTest, output, imagesTest):\n",
    "    if i != j:\n",
    "        incorrectedLabeledImages.append(k)\n",
    "\n",
    "\n",
    "#Then \n",
    "w=10\n",
    "h=10\n",
    "fig=plt.figure(figsize=(8, 8))\n",
    "columns = len(incorrectedLabeledImages) \n",
    "rows = 1\n",
    "for i in range(1, columns*rows +1):\n",
    "    img = cv2.imread(incorrectedLabeledImages[i-1])\n",
    "    img = cv2.cvtColor(img, cv2.COLOR_BGR2RGB)\n",
    "    fig.add_subplot(rows, columns, i)\n",
    "    plt.imshow(img)\n",
    "plt.show()"
   ]
  },
  {
   "cell_type": "code",
   "execution_count": null,
   "metadata": {},
   "outputs": [],
   "source": [
    "#SAVE THE MODEL\n",
    "SVM.save(\"model.xml\")\n",
    "SVMextr = SVM"
   ]
  },
  {
   "cell_type": "code",
   "execution_count": null,
   "metadata": {},
   "outputs": [],
   "source": [
    "\n",
    "model2 = cv2.ml.SVM_create()\n",
    "model2 = model2.load(\"model.xml\")"
   ]
  },
  {
   "cell_type": "code",
   "execution_count": null,
   "metadata": {},
   "outputs": [],
   "source": [
    "#Get user to input file\n",
    "f = easygui.fileopenbox()\n",
    "img = cv2.imread(f, cv2.IMREAD_GRAYSCALE)\n",
    "img = cv2.resize(img, (64,64), interpolation = cv2.INTER_AREA)\n",
    "\n",
    "plt.imshow(img, cmap='gray')\n",
    "\n",
    "testDescriptor = hog.compute(img)\n",
    "testDescriptor = np.array([testDescriptor])\n",
    "prediction = model2.predict(testDescriptor)[1].ravel()\n",
    "if prediction == 1:\n",
    "    print(\"Face\")\n",
    "else:\n",
    "    print(\"Not Face\")"
   ]
  },
  {
   "cell_type": "code",
   "execution_count": 13,
   "metadata": {},
   "outputs": [],
   "source": [
    "def slidingWindow(img):\n",
    "    #Get the width and height\n",
    "    markedImg = img.copy()\n",
    "    grayImg = cv2.cvtColor(img,cv2.COLOR_BGR2GRAY)\n",
    "    height = img.shape[0]\n",
    "    width = img.shape[1]\n",
    "\n",
    "    #Define size of bounding box and step\n",
    "    dim = 128\n",
    "    step = 16\n",
    "    \n",
    "    for x in range(0, width, step):\n",
    "        for y in range(0, height, step):\n",
    "            if x+dim <= width and y+dim <= height:\n",
    "\n",
    "                prediction = getPrediction(grayImg[y:y+dim, x:x+dim])\n",
    "                if prediction == 1:\n",
    "                    cv2.rectangle(markedImg, (x,y), (x+dim, y+dim), (0,255,0), 2)\n",
    "                    print(\"detected\")\n",
    "   \n",
    "    return markedImg\n",
    "\n",
    "def getRandom(img):\n",
    "    markedImg = img.copy()\n",
    "    grayImg = cv2.cvtColor(img,cv2.COLOR_BGR2GRAY)\n",
    "    height = img.shape[0]\n",
    "    width = img.shape[1]\n",
    "    counter = 0\n",
    "    \n",
    "    xmin = np.random.randint(width, size=2000)\n",
    "    xmax = np.random.randint(width, size=2000)\n",
    "    ymin = np.random.randint(height, size=2000)\n",
    "    ymax = np.random.randint(height, size=2000)\n",
    "    \n",
    "    for x1, x2, y1, y2 in zip(xmin, xmax, xmin, xmax):\n",
    "        \n",
    "        if y2 < y1:\n",
    "            y2, y1 = y1, y2\n",
    "        if x2 < x1:\n",
    "            x2, x1 = x1, x2\n",
    "        \n",
    "        if x1 != x2 and y1 != y2:\n",
    "            prediction = getPrediction(grayImg[y1:y2, x1:x2])\n",
    "            if prediction == 1:\n",
    "                cv2.rectangle(markedImg, (x1,y1), (x2, y2), (0,255,0), 2)\n",
    "                print(\"detected\")\n",
    "                outputImg = img.copy()\n",
    "                cv2.imwrite(\"outputs\\\\\" + str(counter) + \".jpg\", outputImg[y1:y2, x1:x2]) \n",
    "                counter += 1\n",
    "        \n",
    "    return markedImg\n",
    "    \n",
    "def getPrediction(img):\n",
    "    try:\n",
    "        img = cv2.resize(img, (64,64), interpolation = cv2.INTER_AREA)\n",
    "\n",
    "        testDescriptor = hog.compute(img)\n",
    "        testDescriptor = np.array([testDescriptor])\n",
    "        prediction = SVM.predict(testDescriptor)[1].ravel()\n",
    "\n",
    "        return prediction\n",
    "    except:\n",
    "        return 0\n"
   ]
  },
  {
   "cell_type": "code",
   "execution_count": 13,
   "metadata": {},
   "outputs": [
    {
     "ename": "AttributeError",
     "evalue": "'NoneType' object has no attribute 'copy'",
     "output_type": "error",
     "traceback": [
      "\u001b[1;31m---------------------------------------------------------------------------\u001b[0m",
      "\u001b[1;31mAttributeError\u001b[0m                            Traceback (most recent call last)",
      "\u001b[1;32m<ipython-input-13-c9f31237300c>\u001b[0m in \u001b[0;36m<module>\u001b[1;34m\u001b[0m\n\u001b[0;32m      1\u001b[0m \u001b[0mf\u001b[0m \u001b[1;33m=\u001b[0m \u001b[0measygui\u001b[0m\u001b[1;33m.\u001b[0m\u001b[0mfileopenbox\u001b[0m\u001b[1;33m(\u001b[0m\u001b[1;33m)\u001b[0m\u001b[1;33m\u001b[0m\u001b[1;33m\u001b[0m\u001b[0m\n\u001b[0;32m      2\u001b[0m \u001b[0mimg\u001b[0m \u001b[1;33m=\u001b[0m \u001b[0mcv2\u001b[0m\u001b[1;33m.\u001b[0m\u001b[0mimread\u001b[0m\u001b[1;33m(\u001b[0m\u001b[0mf\u001b[0m\u001b[1;33m)\u001b[0m\u001b[1;33m\u001b[0m\u001b[1;33m\u001b[0m\u001b[0m\n\u001b[1;32m----> 3\u001b[1;33m \u001b[0moutputImg\u001b[0m \u001b[1;33m=\u001b[0m \u001b[0mslidingWindow\u001b[0m\u001b[1;33m(\u001b[0m\u001b[0mimg\u001b[0m\u001b[1;33m)\u001b[0m\u001b[1;33m\u001b[0m\u001b[1;33m\u001b[0m\u001b[0m\n\u001b[0m\u001b[0;32m      4\u001b[0m \u001b[1;33m\u001b[0m\u001b[0m\n\u001b[0;32m      5\u001b[0m \u001b[0mcv2\u001b[0m\u001b[1;33m.\u001b[0m\u001b[0mimshow\u001b[0m\u001b[1;33m(\u001b[0m\u001b[1;34m\"img\"\u001b[0m\u001b[1;33m,\u001b[0m \u001b[0moutputImg\u001b[0m\u001b[1;33m)\u001b[0m\u001b[1;33m\u001b[0m\u001b[1;33m\u001b[0m\u001b[0m\n",
      "\u001b[1;32m<ipython-input-12-3bad3c49751b>\u001b[0m in \u001b[0;36mslidingWindow\u001b[1;34m(img)\u001b[0m\n\u001b[0;32m      1\u001b[0m \u001b[1;32mdef\u001b[0m \u001b[0mslidingWindow\u001b[0m\u001b[1;33m(\u001b[0m\u001b[0mimg\u001b[0m\u001b[1;33m)\u001b[0m\u001b[1;33m:\u001b[0m\u001b[1;33m\u001b[0m\u001b[1;33m\u001b[0m\u001b[0m\n\u001b[0;32m      2\u001b[0m     \u001b[1;31m#Get the width and height\u001b[0m\u001b[1;33m\u001b[0m\u001b[1;33m\u001b[0m\u001b[1;33m\u001b[0m\u001b[0m\n\u001b[1;32m----> 3\u001b[1;33m     \u001b[0mmarkedImg\u001b[0m \u001b[1;33m=\u001b[0m \u001b[0mimg\u001b[0m\u001b[1;33m.\u001b[0m\u001b[0mcopy\u001b[0m\u001b[1;33m(\u001b[0m\u001b[1;33m)\u001b[0m\u001b[1;33m\u001b[0m\u001b[1;33m\u001b[0m\u001b[0m\n\u001b[0m\u001b[0;32m      4\u001b[0m     \u001b[0mgrayImg\u001b[0m \u001b[1;33m=\u001b[0m \u001b[0mcv2\u001b[0m\u001b[1;33m.\u001b[0m\u001b[0mcvtColor\u001b[0m\u001b[1;33m(\u001b[0m\u001b[0mimg\u001b[0m\u001b[1;33m,\u001b[0m\u001b[0mcv2\u001b[0m\u001b[1;33m.\u001b[0m\u001b[0mCOLOR_BGR2GRAY\u001b[0m\u001b[1;33m)\u001b[0m\u001b[1;33m\u001b[0m\u001b[1;33m\u001b[0m\u001b[0m\n\u001b[0;32m      5\u001b[0m     \u001b[0mheight\u001b[0m \u001b[1;33m=\u001b[0m \u001b[0mimg\u001b[0m\u001b[1;33m.\u001b[0m\u001b[0mshape\u001b[0m\u001b[1;33m[\u001b[0m\u001b[1;36m0\u001b[0m\u001b[1;33m]\u001b[0m\u001b[1;33m\u001b[0m\u001b[1;33m\u001b[0m\u001b[0m\n",
      "\u001b[1;31mAttributeError\u001b[0m: 'NoneType' object has no attribute 'copy'"
     ]
    }
   ],
   "source": [
    "f = easygui.fileopenbox()\n",
    "img = cv2.imread(f)\n",
    "outputImg = slidingWindow(img)\n",
    "\n",
    "cv2.imshow(\"img\", outputImg)\n",
    "cv2.waitKey(0)"
   ]
  },
  {
   "cell_type": "code",
   "execution_count": 35,
   "metadata": {},
   "outputs": [
    {
     "data": {
      "text/plain": [
       "-1"
      ]
     },
     "execution_count": 35,
     "metadata": {},
     "output_type": "execute_result"
    }
   ],
   "source": [
    "f = easygui.fileopenbox()\n",
    "img = cv2.imread(f)\n",
    "outputImg = getRandom(img)\n",
    "\n",
    "cv2.imshow(\"img\", outputImg)\n",
    "cv2.waitKey(0)"
   ]
  },
  {
   "cell_type": "code",
   "execution_count": null,
   "metadata": {},
   "outputs": [],
   "source": []
  },
  {
   "cell_type": "code",
   "execution_count": 7,
   "metadata": {},
   "outputs": [],
   "source": [
    "def getEllipses(img):\n",
    "    #Get the width and height\n",
    "    markedImg = img.copy()\n",
    "    grayImg = cv2.cvtColor(img,cv2.COLOR_BGR2GRAY)\n",
    "    height = img.shape[0]\n",
    "    width = img.shape[1]\n",
    "    counter = 0\n",
    "    \n",
    "    faceCascade = cv2.CascadeClassifier('lbpcascade_animeface.xml')\n",
    "    \n",
    "    \n",
    "    faces = faceCascade.detectMultiScale(grayImg,\n",
    "                                 # detector options\n",
    "                                 scaleFactor = 1.01,\n",
    "                                 minNeighbors = 5,\n",
    "                                 minSize = (32, 32))\n",
    "\n",
    "    for (x, y, w, h) in faces:\n",
    "        cv2.rectangle(markedImg, (x,y), (x + w, y + h), (0,0,255), 2)\n",
    "\n",
    "        prediction = 0\n",
    "        scale = 1.2\n",
    "        cx = x + w/2\n",
    "        cy = y + h/2\n",
    "#         scaledH = h * scale\n",
    "#         scaledW = w * scale\n",
    "\n",
    "        scaledH = h * scale\n",
    "        scaledW = w * scale\n",
    "        lx = x\n",
    "        ly = y\n",
    "        \n",
    "        i = 0\n",
    "        \n",
    "        while prediction != 1 and scale > 0.5:\n",
    "            #Method 1\n",
    "            rx = int(lx + scaledW)\n",
    "            ry = int(ly + scaledH)\n",
    "            prediction = getPrediction(grayImg[ly:ry, lx:rx])\n",
    "            print(prediction)\n",
    "            \n",
    "            cv2.rectangle(markedImg, (lx,ly), (rx, ry), (255,0,0), 1)\n",
    "            \n",
    "            \n",
    "            if prediction == 1:\n",
    "                cv2.rectangle(markedImg, (lx,ly), (rx, ry), (0,255,0), 2)\n",
    "                print(\"detected\")\n",
    "                outputImg = img.copy()\n",
    "                cv2.imwrite(\"outputs\\\\\" + str(counter) + \".jpg\", outputImg[ly:ry, lx:rx]) \n",
    "                counter += 1\n",
    "            else:\n",
    "                #Method 2\n",
    "                lx = int(cx - scaledW//2)\n",
    "                ly = int(cy - scaledH//2)\n",
    "                rx = int(cx + scaledW//2)\n",
    "                ry = int(cy + scaledH//2)\n",
    "\n",
    "\n",
    "                prediction = getPrediction(grayImg[ly:ry, lx:rx])\n",
    "                print(prediction)\n",
    "\n",
    "                cv2.rectangle(markedImg, (lx,ly), (rx, ry), (255,0,0), 1)\n",
    "\n",
    "\n",
    "                if prediction == 1:\n",
    "                    cv2.rectangle(markedImg, (lx,ly), (rx, ry), (0,255,0), 2)\n",
    "                    print(\"detected\")\n",
    "                    outputImg = img.copy()\n",
    "                    cv2.imwrite(\"outputs\\\\\" + str(counter) + \".jpg\", outputImg[ly:ry, lx:rx]) \n",
    "                    counter += 1\n",
    "            \n",
    "            scale = scale - 0.2\n",
    "            scaledH = h * scale\n",
    "            scaledW = w * scale\n",
    "            print(scale)\n",
    "            i+=1\n",
    "            \n",
    "            if i > 150:\n",
    "                break\n",
    "\n",
    "    return markedImg, counter"
   ]
  },
  {
   "cell_type": "code",
   "execution_count": 8,
   "metadata": {},
   "outputs": [
    {
     "ename": "NameError",
     "evalue": "name 'getPrediction' is not defined",
     "output_type": "error",
     "traceback": [
      "\u001b[1;31m---------------------------------------------------------------------------\u001b[0m",
      "\u001b[1;31mNameError\u001b[0m                                 Traceback (most recent call last)",
      "\u001b[1;32m<ipython-input-8-18ff025fd0b9>\u001b[0m in \u001b[0;36m<module>\u001b[1;34m\u001b[0m\n\u001b[0;32m      1\u001b[0m \u001b[0mf\u001b[0m \u001b[1;33m=\u001b[0m \u001b[0measygui\u001b[0m\u001b[1;33m.\u001b[0m\u001b[0mfileopenbox\u001b[0m\u001b[1;33m(\u001b[0m\u001b[1;33m)\u001b[0m\u001b[1;33m\u001b[0m\u001b[1;33m\u001b[0m\u001b[0m\n\u001b[0;32m      2\u001b[0m \u001b[0mimg\u001b[0m \u001b[1;33m=\u001b[0m \u001b[0mcv2\u001b[0m\u001b[1;33m.\u001b[0m\u001b[0mimread\u001b[0m\u001b[1;33m(\u001b[0m\u001b[0mf\u001b[0m\u001b[1;33m)\u001b[0m\u001b[1;33m\u001b[0m\u001b[1;33m\u001b[0m\u001b[0m\n\u001b[1;32m----> 3\u001b[1;33m \u001b[0moutputImg\u001b[0m \u001b[1;33m=\u001b[0m \u001b[0mgetEllipses\u001b[0m\u001b[1;33m(\u001b[0m\u001b[0mimg\u001b[0m\u001b[1;33m)\u001b[0m\u001b[1;33m\u001b[0m\u001b[1;33m\u001b[0m\u001b[0m\n\u001b[0m\u001b[0;32m      4\u001b[0m \u001b[1;33m\u001b[0m\u001b[0m\n\u001b[0;32m      5\u001b[0m \u001b[0mcv2\u001b[0m\u001b[1;33m.\u001b[0m\u001b[0mimshow\u001b[0m\u001b[1;33m(\u001b[0m\u001b[1;34m\"img\"\u001b[0m\u001b[1;33m,\u001b[0m \u001b[0moutputImg\u001b[0m\u001b[1;33m)\u001b[0m\u001b[1;33m\u001b[0m\u001b[1;33m\u001b[0m\u001b[0m\n",
      "\u001b[1;32m<ipython-input-7-7fc813369d4f>\u001b[0m in \u001b[0;36mgetEllipses\u001b[1;34m(img)\u001b[0m\n\u001b[0;32m     37\u001b[0m             \u001b[0mrx\u001b[0m \u001b[1;33m=\u001b[0m \u001b[0mint\u001b[0m\u001b[1;33m(\u001b[0m\u001b[0mlx\u001b[0m \u001b[1;33m+\u001b[0m \u001b[0mscaledW\u001b[0m\u001b[1;33m)\u001b[0m\u001b[1;33m\u001b[0m\u001b[1;33m\u001b[0m\u001b[0m\n\u001b[0;32m     38\u001b[0m             \u001b[0mry\u001b[0m \u001b[1;33m=\u001b[0m \u001b[0mint\u001b[0m\u001b[1;33m(\u001b[0m\u001b[0mly\u001b[0m \u001b[1;33m+\u001b[0m \u001b[0mscaledH\u001b[0m\u001b[1;33m)\u001b[0m\u001b[1;33m\u001b[0m\u001b[1;33m\u001b[0m\u001b[0m\n\u001b[1;32m---> 39\u001b[1;33m             \u001b[0mprediction\u001b[0m \u001b[1;33m=\u001b[0m \u001b[0mgetPrediction\u001b[0m\u001b[1;33m(\u001b[0m\u001b[0mgrayImg\u001b[0m\u001b[1;33m[\u001b[0m\u001b[0mly\u001b[0m\u001b[1;33m:\u001b[0m\u001b[0mry\u001b[0m\u001b[1;33m,\u001b[0m \u001b[0mlx\u001b[0m\u001b[1;33m:\u001b[0m\u001b[0mrx\u001b[0m\u001b[1;33m]\u001b[0m\u001b[1;33m)\u001b[0m\u001b[1;33m\u001b[0m\u001b[1;33m\u001b[0m\u001b[0m\n\u001b[0m\u001b[0;32m     40\u001b[0m             \u001b[0mprint\u001b[0m\u001b[1;33m(\u001b[0m\u001b[0mprediction\u001b[0m\u001b[1;33m)\u001b[0m\u001b[1;33m\u001b[0m\u001b[1;33m\u001b[0m\u001b[0m\n\u001b[0;32m     41\u001b[0m \u001b[1;33m\u001b[0m\u001b[0m\n",
      "\u001b[1;31mNameError\u001b[0m: name 'getPrediction' is not defined"
     ]
    }
   ],
   "source": [
    "f = easygui.fileopenbox()\n",
    "img = cv2.imread(f)\n",
    "outputImg, facesCount = getEllipses(img)\n",
    "\n",
    "cv2.imshow(\"img\", outputImg)\n",
    "cv2.waitKey(0)"
   ]
  },
  {
   "cell_type": "code",
   "execution_count": null,
   "metadata": {},
   "outputs": [],
   "source": []
  }
 ],
 "metadata": {
  "kernelspec": {
   "display_name": "Python 3",
   "language": "python",
   "name": "python3"
  },
  "language_info": {
   "codemirror_mode": {
    "name": "ipython",
    "version": 3
   },
   "file_extension": ".py",
   "mimetype": "text/x-python",
   "name": "python",
   "nbconvert_exporter": "python",
   "pygments_lexer": "ipython3",
   "version": "3.7.6"
  }
 },
 "nbformat": 4,
 "nbformat_minor": 4
}
