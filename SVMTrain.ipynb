{
 "cells": [
  {
   "cell_type": "code",
   "execution_count": 1,
   "metadata": {},
   "outputs": [],
   "source": [
    "import cv2 \n",
    "import matplotlib.pyplot as plot\n",
    "\n",
    "from matplotlib import pyplot as plt\n",
    "from matplotlib import image as image\n",
    "\n",
    "import easygui\n",
    "import numpy as np\n",
    "\n",
    "import glob"
   ]
  },
  {
   "cell_type": "code",
   "execution_count": 42,
   "metadata": {},
   "outputs": [],
   "source": [
    "#Face Folder\n",
    "datasetSize = 'newx64\\\\'\n",
    "faceDir = datasetSize + 'Faces\\\\'\n",
    "notFaceDir = datasetSize + 'NotFaces\\\\'"
   ]
  },
  {
   "cell_type": "code",
   "execution_count": 43,
   "metadata": {},
   "outputs": [],
   "source": [
    "#Create the HOG descriptor\n",
    "winSize = (64,64)\n",
    "blockSize = (16,16)\n",
    "blockStride = (8,8)\n",
    "cellSize = (8,8)\n",
    "nbins = 9\n",
    "derivAperture = 1\n",
    "winSigma = -1.\n",
    "histogramNormType = 0\n",
    "L2HysThreshold = 0.2\n",
    "gammaCorrection = 1\n",
    "nlevels = 64\n",
    "signedGradients = True\n",
    "\n",
    "hog = cv2.HOGDescriptor(winSize,blockSize,blockStride,cellSize,nbins,derivAperture,winSigma,histogramNormType,L2HysThreshold,gammaCorrection,nlevels, signedGradients)"
   ]
  },
  {
   "cell_type": "code",
   "execution_count": 44,
   "metadata": {},
   "outputs": [
    {
     "name": "stdout",
     "output_type": "stream",
     "text": [
      "[0 1]\n",
      "33187\n",
      "7522\n"
     ]
    }
   ],
   "source": [
    "#Get the images\n",
    "faces = glob.glob(faceDir + '*.jpg')\n",
    "nonFaces = glob.glob(notFaceDir + '*.jpg')\n",
    "images = faces + nonFaces\n",
    "\n",
    "#Create labels for the images\n",
    "faceLabels = [1] * len(faces)\n",
    "nonFaceLabels = [0] * len(nonFaces)\n",
    "labels = faceLabels + nonFaceLabels\n",
    "\n",
    "#Convert the lists into numpy arrays\n",
    "images = np.array(images)\n",
    "labels = np.array(labels)\n",
    "\n",
    "#Shuffle the data\n",
    "rand = np.random.RandomState(22)\n",
    "shuffle = rand.permutation(len(images))\n",
    "images, labels = images[shuffle], labels[shuffle]\n",
    "\n",
    "print(np.unique(labels))\n",
    "print(len(images))\n",
    "print(len(faceLabels))"
   ]
  },
  {
   "cell_type": "code",
   "execution_count": 45,
   "metadata": {},
   "outputs": [],
   "source": [
    "#Calculate HOG features for every image\n",
    "descriptors = []\n",
    "\n",
    "for img in images:\n",
    "    img = cv2.imread(img, cv2.IMREAD_GRAYSCALE)\n",
    "    descriptor = hog.compute(img)\n",
    "    descriptors.append(descriptor)"
   ]
  },
  {
   "cell_type": "code",
   "execution_count": 46,
   "metadata": {},
   "outputs": [],
   "source": [
    "descriptors = np.squeeze(descriptors)"
   ]
  },
  {
   "cell_type": "code",
   "execution_count": 47,
   "metadata": {},
   "outputs": [],
   "source": [
    "#Split the data into training and testing sets\n",
    "#90% training - 10% testing\n",
    "\n",
    "trainingSize = int(0.8 * len(descriptors))\n",
    "\n",
    "imagesTrain, imagesTest = np.split(images, [trainingSize])\n",
    "labelsTrain, labelsTest = np.split(labels, [trainingSize])\n",
    "descriptorsTrain, descriptorsTest = np.split(descriptors, [trainingSize])\n",
    "\n",
    "# #Double check\n",
    "# print(len(descriptorsTrain))\n",
    "# print(len(descriptorsTest))\n",
    "# print(len(descriptors))\n",
    "# print(labelsTrain)"
   ]
  },
  {
   "cell_type": "code",
   "execution_count": 48,
   "metadata": {},
   "outputs": [
    {
     "data": {
      "text/plain": [
       "True"
      ]
     },
     "execution_count": 48,
     "metadata": {},
     "output_type": "execute_result"
    }
   ],
   "source": [
    "#Initialise the SVM classifier\n",
    "SVM = cv2.ml.SVM_create()\n",
    "SVM.setKernel(cv2.ml.SVM_RBF)\n",
    "SVM.setGamma(0.50625)\n",
    "SVM.setType(cv2.ml.SVM_C_SVC)\n",
    "SVM.setC(2.0)\n",
    "\n",
    "#training\n",
    "SVM.train(descriptorsTrain, cv2.ml.ROW_SAMPLE, labelsTrain)"
   ]
  },
  {
   "cell_type": "code",
   "execution_count": null,
   "metadata": {},
   "outputs": [],
   "source": [
    "#Get the accuracy of the predictions on the test set\n",
    "output = SVM.predict(descriptorsTest)[1].ravel()\n",
    "\n",
    "accuracy = (labelsTest == output).mean()\n",
    "print('Percentage Accuracy: %.2f %%' % (accuracy*100))"
   ]
  },
  {
   "cell_type": "code",
   "execution_count": null,
   "metadata": {},
   "outputs": [],
   "source": [
    "#Get a confusion matrix for the test set\n",
    "#ACTUAL VALUES       -Face- -NotFace- \n",
    "#PREDICTED -Face-    --TP-- --FP-- \n",
    "#PREDICTED -NotFace- --FN-- --TN-- \n",
    "\n",
    "confusion = np.zeros((2, 2), np.int32)\n",
    "for i, j in zip(labelsTest, output):\n",
    "    confusion[int(i), int(j)] += 1\n",
    "print('confusion matrix:')\n",
    "print(confusion)\n"
   ]
  },
  {
   "cell_type": "code",
   "execution_count": null,
   "metadata": {},
   "outputs": [],
   "source": [
    "#Get all the images that were incorrectly labelled \n",
    "#https://stackoverflow.com/questions/46615554/how-to-display-multiple-images-in-one-figure-correctly/46616645\n",
    "#This does not display properly if there are too many unfortunately\n",
    "incorrectedLabeledImages = []\n",
    "for i, j, k in zip(labelsTest, output, imagesTest):\n",
    "    if i != j:\n",
    "        incorrectedLabeledImages.append(k)\n",
    "\n",
    "\n",
    "#Then \n",
    "w=10\n",
    "h=10\n",
    "fig=plt.figure(figsize=(8, 8))\n",
    "columns = len(incorrectedLabeledImages) \n",
    "rows = 1\n",
    "for i in range(1, columns*rows +1):\n",
    "    img = cv2.imread(incorrectedLabeledImages[i-1])\n",
    "    img = cv2.cvtColor(img, cv2.COLOR_BGR2RGB)\n",
    "    fig.add_subplot(rows, columns, i)\n",
    "    plt.imshow(img)\n",
    "plt.show()"
   ]
  },
  {
   "cell_type": "code",
   "execution_count": null,
   "metadata": {},
   "outputs": [],
   "source": [
    "#SAVE THE MODEL\n",
    "SVM.save(\"model.xml\")\n",
    "SVMextr = SVM"
   ]
  },
  {
   "cell_type": "code",
   "execution_count": null,
   "metadata": {},
   "outputs": [],
   "source": []
  }
 ],
 "metadata": {
  "kernelspec": {
   "display_name": "Python 3",
   "language": "python",
   "name": "python3"
  },
  "language_info": {
   "codemirror_mode": {
    "name": "ipython",
    "version": 3
   },
   "file_extension": ".py",
   "mimetype": "text/x-python",
   "name": "python",
   "nbconvert_exporter": "python",
   "pygments_lexer": "ipython3",
   "version": "3.8.8"
  }
 },
 "nbformat": 4,
 "nbformat_minor": 4
}
